{
 "cells": [
  {
   "cell_type": "markdown",
   "id": "b10360f6",
   "metadata": {},
   "source": [
    "# 2. Анализ выживаемости"
   ]
  },
  {
   "cell_type": "markdown",
   "id": "61f00964",
   "metadata": {},
   "source": [
    "## 2.1 Введение и сформированные гипотезы\n",
    "\n",
    "Датасет Titanic содержит информацию о 891 пассажире легендарного лайнера, включая их демографические данные, класс каюты, стоимость билета и факт выживаемости (переменная Survived: 1 — выжил, 0 — нет). На этапе разведочного анализа данных (EDA) были выявлены заметные различия в долях выживших между различными группами пассажиров. Опираясь на эти наблюдения и исторические факты, сформулированы ключевые гипотезы:\n",
    "\n",
    "1. Пол (Sex): Женщины выживали чаще, чем мужчины (известный принцип «women and children first» — «сперва женщины и дети»);\n",
    "\n",
    "2. Класс каюты (Pclass): Пассажиры 1-го класса имели больше шансов спастись, чем пассажиры 2-го и особенно 3-го класса, из-за лучшего доступа к шлюпкам и привилегий своего статуса;\n",
    "\n",
    "3. Возраст: Более молодые пассажиры, особенно дети, выживали чаще, чем пожилые (частично вследствие приоритета детей при эвакуации);\n",
    "\n",
    "4. Порт посадки (Embarked): Вероятность выживания различалась в зависимости от порта посадки (S, C, Q) — возможно, из-за разного соотношения классов пассажиров, севших в этих портах;\n",
    "\n",
    "4. Размер семьи (SibSp + Parch): Наличие родственников на борту могло влиять на выживаемость. Возможно, пассажиры, путешествовавшие в одиночку, выживали реже, чем те, у кого была небольшая семья рядом (поддержка друг друга), однако слишком большая семья могла снижать шанс спастись;\n",
    "\n",
    "5. Стоимость билета (Fare): Более высокая цена билета (как показатель богатства и класса обслуживания) могла быть связана с большей вероятностью выживания.\n",
    "\n",
    "Далее каждую гипотезу проверим с помощью статистического анализа: \n",
    "- для категориальных признаков – с применением критерия χ² Пирсона (на независимость признака и факта выживания);\n",
    "- для числовых – с помощью сравнения распределений (визуально через boxplot) и t-теста Стьюдента для независимых выборок. \n",
    "\n",
    "На каждом шаге будут строиться графики (столбчатые диаграммы для долей выживших, boxplot для распределений) и вычисляться статистические критерии. Ниже приводится подробный разбор каждого фактора, включая пояснение коду (группировки, визуализации, расчёты) и выводы по гипотезам."
   ]
  },
  {
   "cell_type": "markdown",
   "id": "a9679eb0",
   "metadata": {},
   "source": [
    "## 2.2 Предварительная предобработка данных"
   ]
  },
  {
   "cell_type": "code",
   "execution_count": 7,
   "id": "09f4d91b",
   "metadata": {},
   "outputs": [],
   "source": [
    "# Библиотеки используемые для анализа данных:\n",
    "\n",
    "import numpy as np\n",
    "import pandas as pd\n",
    "import matplotlib.pyplot as plt\n",
    "import seaborn as sns\n",
    "from scipy.stats import chi2_contingency, ttest_ind"
   ]
  },
  {
   "cell_type": "code",
   "execution_count": 4,
   "id": "cd89a563",
   "metadata": {},
   "outputs": [
    {
     "data": {
      "application/vnd.microsoft.datawrangler.viewer.v0+json": {
       "columns": [
        {
         "name": "index",
         "rawType": "int64",
         "type": "integer"
        },
        {
         "name": "PassengerId",
         "rawType": "int64",
         "type": "integer"
        },
        {
         "name": "Survived",
         "rawType": "int64",
         "type": "integer"
        },
        {
         "name": "Pclass",
         "rawType": "int64",
         "type": "integer"
        },
        {
         "name": "Name",
         "rawType": "object",
         "type": "string"
        },
        {
         "name": "Sex",
         "rawType": "object",
         "type": "string"
        },
        {
         "name": "Age",
         "rawType": "float64",
         "type": "float"
        },
        {
         "name": "SibSp",
         "rawType": "int64",
         "type": "integer"
        },
        {
         "name": "Parch",
         "rawType": "int64",
         "type": "integer"
        },
        {
         "name": "Ticket",
         "rawType": "object",
         "type": "string"
        },
        {
         "name": "Fare",
         "rawType": "float64",
         "type": "float"
        },
        {
         "name": "Cabin",
         "rawType": "object",
         "type": "unknown"
        },
        {
         "name": "Embarked",
         "rawType": "object",
         "type": "string"
        }
       ],
       "conversionMethod": "pd.DataFrame",
       "ref": "c953b275-8462-4ded-9daa-64504040e7f6",
       "rows": [
        [
         "0",
         "1",
         "0",
         "3",
         "Braund, Mr. Owen Harris",
         "male",
         "22.0",
         "1",
         "0",
         "A/5 21171",
         "7.25",
         null,
         "S"
        ],
        [
         "1",
         "2",
         "1",
         "1",
         "Cumings, Mrs. John Bradley (Florence Briggs Thayer)",
         "female",
         "38.0",
         "1",
         "0",
         "PC 17599",
         "71.2833",
         "C85",
         "C"
        ],
        [
         "2",
         "3",
         "1",
         "3",
         "Heikkinen, Miss. Laina",
         "female",
         "26.0",
         "0",
         "0",
         "STON/O2. 3101282",
         "7.925",
         null,
         "S"
        ],
        [
         "3",
         "4",
         "1",
         "1",
         "Futrelle, Mrs. Jacques Heath (Lily May Peel)",
         "female",
         "35.0",
         "1",
         "0",
         "113803",
         "53.1",
         "C123",
         "S"
        ],
        [
         "4",
         "5",
         "0",
         "3",
         "Allen, Mr. William Henry",
         "male",
         "35.0",
         "0",
         "0",
         "373450",
         "8.05",
         null,
         "S"
        ]
       ],
       "shape": {
        "columns": 12,
        "rows": 5
       }
      },
      "text/html": [
       "<div>\n",
       "<style scoped>\n",
       "    .dataframe tbody tr th:only-of-type {\n",
       "        vertical-align: middle;\n",
       "    }\n",
       "\n",
       "    .dataframe tbody tr th {\n",
       "        vertical-align: top;\n",
       "    }\n",
       "\n",
       "    .dataframe thead th {\n",
       "        text-align: right;\n",
       "    }\n",
       "</style>\n",
       "<table border=\"1\" class=\"dataframe\">\n",
       "  <thead>\n",
       "    <tr style=\"text-align: right;\">\n",
       "      <th></th>\n",
       "      <th>PassengerId</th>\n",
       "      <th>Survived</th>\n",
       "      <th>Pclass</th>\n",
       "      <th>Name</th>\n",
       "      <th>Sex</th>\n",
       "      <th>Age</th>\n",
       "      <th>SibSp</th>\n",
       "      <th>Parch</th>\n",
       "      <th>Ticket</th>\n",
       "      <th>Fare</th>\n",
       "      <th>Cabin</th>\n",
       "      <th>Embarked</th>\n",
       "    </tr>\n",
       "  </thead>\n",
       "  <tbody>\n",
       "    <tr>\n",
       "      <th>0</th>\n",
       "      <td>1</td>\n",
       "      <td>0</td>\n",
       "      <td>3</td>\n",
       "      <td>Braund, Mr. Owen Harris</td>\n",
       "      <td>male</td>\n",
       "      <td>22.0</td>\n",
       "      <td>1</td>\n",
       "      <td>0</td>\n",
       "      <td>A/5 21171</td>\n",
       "      <td>7.2500</td>\n",
       "      <td>NaN</td>\n",
       "      <td>S</td>\n",
       "    </tr>\n",
       "    <tr>\n",
       "      <th>1</th>\n",
       "      <td>2</td>\n",
       "      <td>1</td>\n",
       "      <td>1</td>\n",
       "      <td>Cumings, Mrs. John Bradley (Florence Briggs Th...</td>\n",
       "      <td>female</td>\n",
       "      <td>38.0</td>\n",
       "      <td>1</td>\n",
       "      <td>0</td>\n",
       "      <td>PC 17599</td>\n",
       "      <td>71.2833</td>\n",
       "      <td>C85</td>\n",
       "      <td>C</td>\n",
       "    </tr>\n",
       "    <tr>\n",
       "      <th>2</th>\n",
       "      <td>3</td>\n",
       "      <td>1</td>\n",
       "      <td>3</td>\n",
       "      <td>Heikkinen, Miss. Laina</td>\n",
       "      <td>female</td>\n",
       "      <td>26.0</td>\n",
       "      <td>0</td>\n",
       "      <td>0</td>\n",
       "      <td>STON/O2. 3101282</td>\n",
       "      <td>7.9250</td>\n",
       "      <td>NaN</td>\n",
       "      <td>S</td>\n",
       "    </tr>\n",
       "    <tr>\n",
       "      <th>3</th>\n",
       "      <td>4</td>\n",
       "      <td>1</td>\n",
       "      <td>1</td>\n",
       "      <td>Futrelle, Mrs. Jacques Heath (Lily May Peel)</td>\n",
       "      <td>female</td>\n",
       "      <td>35.0</td>\n",
       "      <td>1</td>\n",
       "      <td>0</td>\n",
       "      <td>113803</td>\n",
       "      <td>53.1000</td>\n",
       "      <td>C123</td>\n",
       "      <td>S</td>\n",
       "    </tr>\n",
       "    <tr>\n",
       "      <th>4</th>\n",
       "      <td>5</td>\n",
       "      <td>0</td>\n",
       "      <td>3</td>\n",
       "      <td>Allen, Mr. William Henry</td>\n",
       "      <td>male</td>\n",
       "      <td>35.0</td>\n",
       "      <td>0</td>\n",
       "      <td>0</td>\n",
       "      <td>373450</td>\n",
       "      <td>8.0500</td>\n",
       "      <td>NaN</td>\n",
       "      <td>S</td>\n",
       "    </tr>\n",
       "  </tbody>\n",
       "</table>\n",
       "</div>"
      ],
      "text/plain": [
       "   PassengerId  Survived  Pclass  \\\n",
       "0            1         0       3   \n",
       "1            2         1       1   \n",
       "2            3         1       3   \n",
       "3            4         1       1   \n",
       "4            5         0       3   \n",
       "\n",
       "                                                Name     Sex   Age  SibSp  \\\n",
       "0                            Braund, Mr. Owen Harris    male  22.0      1   \n",
       "1  Cumings, Mrs. John Bradley (Florence Briggs Th...  female  38.0      1   \n",
       "2                             Heikkinen, Miss. Laina  female  26.0      0   \n",
       "3       Futrelle, Mrs. Jacques Heath (Lily May Peel)  female  35.0      1   \n",
       "4                           Allen, Mr. William Henry    male  35.0      0   \n",
       "\n",
       "   Parch            Ticket     Fare Cabin Embarked  \n",
       "0      0         A/5 21171   7.2500   NaN        S  \n",
       "1      0          PC 17599  71.2833   C85        C  \n",
       "2      0  STON/O2. 3101282   7.9250   NaN        S  \n",
       "3      0            113803  53.1000  C123        S  \n",
       "4      0            373450   8.0500   NaN        S  "
      ]
     },
     "execution_count": 4,
     "metadata": {},
     "output_type": "execute_result"
    }
   ],
   "source": [
    "# Загрузка и сохранение датасета в переменную:\n",
    "df = pd.read_csv('./datasets/eda_titanic_dataset.csv')\n",
    "\n",
    "# Отображение данных:\n",
    "df.head()"
   ]
  },
  {
   "cell_type": "code",
   "execution_count": 5,
   "id": "809986d1",
   "metadata": {},
   "outputs": [],
   "source": [
    "# Создание новых признаков для будущего анализа:\n",
    "\n",
    "# Добавление признака \"Размер семьи\":\n",
    "df['FamilySize'] = df['SibSp'] + df['Parch']\n",
    "\n",
    "# Добавление признака, что пассажир является ребенком:\n",
    "df['IsChild'] = df['Age'] < 16\n",
    "\n",
    "# Добавление признака наличие семьи у пассажира:\n",
    "df['HasFamily'] = df['FamilySize'] > 0"
   ]
  },
  {
   "cell_type": "code",
   "execution_count": 6,
   "id": "dbf9aec2",
   "metadata": {},
   "outputs": [
    {
     "data": {
      "application/vnd.microsoft.datawrangler.viewer.v0+json": {
       "columns": [
        {
         "name": "index",
         "rawType": "int64",
         "type": "integer"
        },
        {
         "name": "PassengerId",
         "rawType": "int64",
         "type": "integer"
        },
        {
         "name": "Survived",
         "rawType": "int64",
         "type": "integer"
        },
        {
         "name": "Pclass",
         "rawType": "int64",
         "type": "integer"
        },
        {
         "name": "Name",
         "rawType": "object",
         "type": "string"
        },
        {
         "name": "Sex",
         "rawType": "object",
         "type": "string"
        },
        {
         "name": "Age",
         "rawType": "float64",
         "type": "float"
        },
        {
         "name": "SibSp",
         "rawType": "int64",
         "type": "integer"
        },
        {
         "name": "Parch",
         "rawType": "int64",
         "type": "integer"
        },
        {
         "name": "Ticket",
         "rawType": "object",
         "type": "string"
        },
        {
         "name": "Fare",
         "rawType": "float64",
         "type": "float"
        },
        {
         "name": "Cabin",
         "rawType": "object",
         "type": "unknown"
        },
        {
         "name": "Embarked",
         "rawType": "object",
         "type": "string"
        },
        {
         "name": "FamilySize",
         "rawType": "int64",
         "type": "integer"
        },
        {
         "name": "IsChild",
         "rawType": "bool",
         "type": "boolean"
        },
        {
         "name": "HasFamily",
         "rawType": "bool",
         "type": "boolean"
        }
       ],
       "conversionMethod": "pd.DataFrame",
       "ref": "3e034aa7-b177-41fc-801d-0d6af0645906",
       "rows": [
        [
         "0",
         "1",
         "0",
         "3",
         "Braund, Mr. Owen Harris",
         "male",
         "22.0",
         "1",
         "0",
         "A/5 21171",
         "7.25",
         null,
         "S",
         "1",
         "False",
         "True"
        ],
        [
         "1",
         "2",
         "1",
         "1",
         "Cumings, Mrs. John Bradley (Florence Briggs Thayer)",
         "female",
         "38.0",
         "1",
         "0",
         "PC 17599",
         "71.2833",
         "C85",
         "C",
         "1",
         "False",
         "True"
        ],
        [
         "2",
         "3",
         "1",
         "3",
         "Heikkinen, Miss. Laina",
         "female",
         "26.0",
         "0",
         "0",
         "STON/O2. 3101282",
         "7.925",
         null,
         "S",
         "0",
         "False",
         "False"
        ],
        [
         "3",
         "4",
         "1",
         "1",
         "Futrelle, Mrs. Jacques Heath (Lily May Peel)",
         "female",
         "35.0",
         "1",
         "0",
         "113803",
         "53.1",
         "C123",
         "S",
         "1",
         "False",
         "True"
        ],
        [
         "4",
         "5",
         "0",
         "3",
         "Allen, Mr. William Henry",
         "male",
         "35.0",
         "0",
         "0",
         "373450",
         "8.05",
         null,
         "S",
         "0",
         "False",
         "False"
        ]
       ],
       "shape": {
        "columns": 15,
        "rows": 5
       }
      },
      "text/html": [
       "<div>\n",
       "<style scoped>\n",
       "    .dataframe tbody tr th:only-of-type {\n",
       "        vertical-align: middle;\n",
       "    }\n",
       "\n",
       "    .dataframe tbody tr th {\n",
       "        vertical-align: top;\n",
       "    }\n",
       "\n",
       "    .dataframe thead th {\n",
       "        text-align: right;\n",
       "    }\n",
       "</style>\n",
       "<table border=\"1\" class=\"dataframe\">\n",
       "  <thead>\n",
       "    <tr style=\"text-align: right;\">\n",
       "      <th></th>\n",
       "      <th>PassengerId</th>\n",
       "      <th>Survived</th>\n",
       "      <th>Pclass</th>\n",
       "      <th>Name</th>\n",
       "      <th>Sex</th>\n",
       "      <th>Age</th>\n",
       "      <th>SibSp</th>\n",
       "      <th>Parch</th>\n",
       "      <th>Ticket</th>\n",
       "      <th>Fare</th>\n",
       "      <th>Cabin</th>\n",
       "      <th>Embarked</th>\n",
       "      <th>FamilySize</th>\n",
       "      <th>IsChild</th>\n",
       "      <th>HasFamily</th>\n",
       "    </tr>\n",
       "  </thead>\n",
       "  <tbody>\n",
       "    <tr>\n",
       "      <th>0</th>\n",
       "      <td>1</td>\n",
       "      <td>0</td>\n",
       "      <td>3</td>\n",
       "      <td>Braund, Mr. Owen Harris</td>\n",
       "      <td>male</td>\n",
       "      <td>22.0</td>\n",
       "      <td>1</td>\n",
       "      <td>0</td>\n",
       "      <td>A/5 21171</td>\n",
       "      <td>7.2500</td>\n",
       "      <td>NaN</td>\n",
       "      <td>S</td>\n",
       "      <td>1</td>\n",
       "      <td>False</td>\n",
       "      <td>True</td>\n",
       "    </tr>\n",
       "    <tr>\n",
       "      <th>1</th>\n",
       "      <td>2</td>\n",
       "      <td>1</td>\n",
       "      <td>1</td>\n",
       "      <td>Cumings, Mrs. John Bradley (Florence Briggs Th...</td>\n",
       "      <td>female</td>\n",
       "      <td>38.0</td>\n",
       "      <td>1</td>\n",
       "      <td>0</td>\n",
       "      <td>PC 17599</td>\n",
       "      <td>71.2833</td>\n",
       "      <td>C85</td>\n",
       "      <td>C</td>\n",
       "      <td>1</td>\n",
       "      <td>False</td>\n",
       "      <td>True</td>\n",
       "    </tr>\n",
       "    <tr>\n",
       "      <th>2</th>\n",
       "      <td>3</td>\n",
       "      <td>1</td>\n",
       "      <td>3</td>\n",
       "      <td>Heikkinen, Miss. Laina</td>\n",
       "      <td>female</td>\n",
       "      <td>26.0</td>\n",
       "      <td>0</td>\n",
       "      <td>0</td>\n",
       "      <td>STON/O2. 3101282</td>\n",
       "      <td>7.9250</td>\n",
       "      <td>NaN</td>\n",
       "      <td>S</td>\n",
       "      <td>0</td>\n",
       "      <td>False</td>\n",
       "      <td>False</td>\n",
       "    </tr>\n",
       "    <tr>\n",
       "      <th>3</th>\n",
       "      <td>4</td>\n",
       "      <td>1</td>\n",
       "      <td>1</td>\n",
       "      <td>Futrelle, Mrs. Jacques Heath (Lily May Peel)</td>\n",
       "      <td>female</td>\n",
       "      <td>35.0</td>\n",
       "      <td>1</td>\n",
       "      <td>0</td>\n",
       "      <td>113803</td>\n",
       "      <td>53.1000</td>\n",
       "      <td>C123</td>\n",
       "      <td>S</td>\n",
       "      <td>1</td>\n",
       "      <td>False</td>\n",
       "      <td>True</td>\n",
       "    </tr>\n",
       "    <tr>\n",
       "      <th>4</th>\n",
       "      <td>5</td>\n",
       "      <td>0</td>\n",
       "      <td>3</td>\n",
       "      <td>Allen, Mr. William Henry</td>\n",
       "      <td>male</td>\n",
       "      <td>35.0</td>\n",
       "      <td>0</td>\n",
       "      <td>0</td>\n",
       "      <td>373450</td>\n",
       "      <td>8.0500</td>\n",
       "      <td>NaN</td>\n",
       "      <td>S</td>\n",
       "      <td>0</td>\n",
       "      <td>False</td>\n",
       "      <td>False</td>\n",
       "    </tr>\n",
       "  </tbody>\n",
       "</table>\n",
       "</div>"
      ],
      "text/plain": [
       "   PassengerId  Survived  Pclass  \\\n",
       "0            1         0       3   \n",
       "1            2         1       1   \n",
       "2            3         1       3   \n",
       "3            4         1       1   \n",
       "4            5         0       3   \n",
       "\n",
       "                                                Name     Sex   Age  SibSp  \\\n",
       "0                            Braund, Mr. Owen Harris    male  22.0      1   \n",
       "1  Cumings, Mrs. John Bradley (Florence Briggs Th...  female  38.0      1   \n",
       "2                             Heikkinen, Miss. Laina  female  26.0      0   \n",
       "3       Futrelle, Mrs. Jacques Heath (Lily May Peel)  female  35.0      1   \n",
       "4                           Allen, Mr. William Henry    male  35.0      0   \n",
       "\n",
       "   Parch            Ticket     Fare Cabin Embarked  FamilySize  IsChild  \\\n",
       "0      0         A/5 21171   7.2500   NaN        S           1    False   \n",
       "1      0          PC 17599  71.2833   C85        C           1    False   \n",
       "2      0  STON/O2. 3101282   7.9250   NaN        S           0    False   \n",
       "3      0            113803  53.1000  C123        S           1    False   \n",
       "4      0            373450   8.0500   NaN        S           0    False   \n",
       "\n",
       "   HasFamily  \n",
       "0       True  \n",
       "1       True  \n",
       "2      False  \n",
       "3       True  \n",
       "4      False  "
      ]
     },
     "execution_count": 6,
     "metadata": {},
     "output_type": "execute_result"
    }
   ],
   "source": [
    "# Проверка добавленных признаков:\n",
    "df.head()"
   ]
  },
  {
   "cell_type": "markdown",
   "id": "fe3d06f2",
   "metadata": {},
   "source": [
    "## 2.3 Проверка гипотез"
   ]
  },
  {
   "cell_type": "markdown",
   "id": "7d420a41",
   "metadata": {},
   "source": [
    "### 2.3.1 Влияние пола на выживаемость"
   ]
  },
  {
   "cell_type": "markdown",
   "id": "508e9fe0",
   "metadata": {},
   "source": [
    "__Гипотеза:__\n",
    "Женщины выживали значительно чаще мужчин. Это предположение исторически обосновано – при эвакуации действовало неписаное правило «женщины и дети — вперёд», дававшее женщинам преимущество в посадке на шлюпки."
   ]
  },
  {
   "cell_type": "code",
   "execution_count": 76,
   "id": "0fc0c42b",
   "metadata": {},
   "outputs": [
    {
     "data": {
      "text/plain": [
       "Sex\n",
       "female    0.742038\n",
       "male      0.188908\n",
       "Name: Survived, dtype: float64"
      ]
     },
     "execution_count": 76,
     "metadata": {},
     "output_type": "execute_result"
    }
   ],
   "source": [
    "# Средняя выживаемость по полу (1 = выжил):\n",
    "sex_means = df.groupby('Sex')['Survived'].mean()\n",
    "sex_means"
   ]
  },
  {
   "cell_type": "code",
   "execution_count": 77,
   "id": "f583095f",
   "metadata": {},
   "outputs": [
    {
     "data": {
      "text/plain": [
       "Chi2ContingencyResult(statistic=260.71702016732104, pvalue=1.1973570627755645e-58, dof=1, expected_freq=array([[193.47474747, 120.52525253],\n",
       "       [355.52525253, 221.47474747]]))"
      ]
     },
     "execution_count": 77,
     "metadata": {},
     "output_type": "execute_result"
    }
   ],
   "source": [
    "# Х-квадрат тест независимости: проверка связи между полом и выживанием\n",
    "x_test_sex = chi2_contingency(pd.crosstab(df['Sex'], df['Survived']))\n",
    "x_test_sex"
   ]
  },
  {
   "cell_type": "code",
   "execution_count": 78,
   "id": "3ee5aeae",
   "metadata": {},
   "outputs": [
    {
     "name": "stderr",
     "output_type": "stream",
     "text": [
      "C:\\Users\\bigmi\\AppData\\Local\\Temp\\ipykernel_49868\\228359239.py:3: FutureWarning: \n",
      "\n",
      "The `ci` parameter is deprecated. Use `errorbar=None` for the same effect.\n",
      "\n",
      "  sns.barplot(x='Sex', y='Survived', data=df, order=order, ci=None, zorder=2)\n"
     ]
    },
    {
     "data": {
      "image/png": "[encoded data removed]",
      "text/plain": [
       "<Figure size 640x480 with 1 Axes>"
      ]
     },
     "metadata": {},
     "output_type": "display_data"
    }
   ],
   "source": [
    "# Визуализация: barplot долей выживших по полу\n",
    "order = ['male', 'female']\n",
    "sns.barplot(x='Sex', y='Survived', data=df, order=order, ci=None, zorder=2)\n",
    "plt.ylim(0, 1)\n",
    "plt.yticks([i/10 for i in range(0, 11)], [f'{i*10}%' for i in range(0, 11)])\n",
    "plt.title('Выживаемость по полу')\n",
    "plt.grid(axis='y', linestyle='-', alpha=0.5)\n",
    "\n",
    "# Добавляем правильные проценты над столбцами\n",
    "for i, sex in enumerate(order):\n",
    "    val = sex_means[sex]\n",
    "    plt.text(i, val + 0.02, f\"{val*100:.1f}%\", ha='center')\n",
    "plt.show()"
   ]
  },
  {
   "cell_type": "markdown",
   "id": "1c27f91d",
   "metadata": {},
   "source": [
    "На столбчатом графике видно, что доля выживших среди женщин (~74%) существенно выше, чем среди мужчин (~19%).\n",
    "Таким образом, пол пассажира существенно влияет на выживаемость. Женщины имели несоизмеримо более высокий шанс спастись, что подтверждает нашу гипотезу. Эти результаты согласуются с историческими данными: известно, что около 75% женщин на «Титанике» выжили, тогда как среди мужчин – лишь ~20%. Источник: courses.bowdoin.edu\n",
    "\n",
    "__Вывод:__ гипотеза полностью подтверждена, влияние пола на выживаемость статистически значимо."
   ]
  },
  {
   "cell_type": "markdown",
   "id": "9d8f3881",
   "metadata": {},
   "source": [
    "### 2.3.2 Влияние класса пассажира"
   ]
  },
  {
   "cell_type": "markdown",
   "id": "bd1f8317",
   "metadata": {},
   "source": [
    "__Гипотеза:__ Пассажиры 1-го класса выживали чаще, чем во 2-м классе, и значительно чаще, чем в 3-м классе. Причины — социально-экономические различия: первые классы располагались ближе к палубе со шлюпками и получали информацию о катастрофе раньше, тогда как многие пассажиры 3-го класса оказались физически отгорожены и имели меньше шансов выбраться.\n",
    "\n",
    "Источник: \n",
    "- courses.bowdoin.edu; \n",
    "- courses.bowdoin.edu."
   ]
  },
  {
   "cell_type": "code",
   "execution_count": null,
   "id": "09690d56",
   "metadata": {},
   "outputs": [
    {
     "data": {
      "text/plain": [
       "Pclass\n",
       "1    0.629630\n",
       "2    0.472826\n",
       "3    0.242363\n",
       "Name: Survived, dtype: float64"
      ]
     },
     "execution_count": 79,
     "metadata": {},
     "output_type": "execute_result"
    }
   ],
   "source": [
    "# Средняя выживаемость по классу (1 = выжил):\n",
    "class_means = df.groupby('Pclass')['Survived'].mean()\n",
    "class_means"
   ]
  },
  {
   "cell_type": "code",
   "execution_count": 80,
   "id": "1f57521a",
   "metadata": {},
   "outputs": [
    {
     "data": {
      "text/plain": [
       "Chi2ContingencyResult(statistic=102.88898875696056, pvalue=4.549251711298793e-23, dof=2, expected_freq=array([[133.09090909,  82.90909091],\n",
       "       [113.37373737,  70.62626263],\n",
       "       [302.53535354, 188.46464646]]))"
      ]
     },
     "execution_count": 80,
     "metadata": {},
     "output_type": "execute_result"
    }
   ],
   "source": [
    "# Х-квадрат тест независимости: проверка связи между классом и выживанием\n",
    "x_test_class = chi2_contingency(pd.crosstab(df['Pclass'], df['Survived']))\n",
    "x_test_class"
   ]
  },
  {
   "cell_type": "code",
   "execution_count": 82,
   "id": "b3f6340a",
   "metadata": {},
   "outputs": [
    {
     "name": "stderr",
     "output_type": "stream",
     "text": [
      "C:\\Users\\bigmi\\AppData\\Local\\Temp\\ipykernel_49868\\1306477651.py:2: FutureWarning: \n",
      "\n",
      "The `ci` parameter is deprecated. Use `errorbar=None` for the same effect.\n",
      "\n",
      "  sns.barplot(x='Pclass', y='Survived', data=df, ci=None)\n"
     ]
    },
    {
     "data": {
      "image/png": "[encoded data removed]",
      "text/plain": [
       "<Figure size 640x480 with 1 Axes>"
      ]
     },
     "metadata": {},
     "output_type": "display_data"
    }
   ],
   "source": [
    "# Визуализация с процентами и без доверительного интервала\n",
    "sns.barplot(x='Pclass', y='Survived', data=df, ci=None)\n",
    "plt.ylim(0, 1)\n",
    "plt.yticks([i/10 for i in range(0, 11)], [f'{i*10}%' for i in range(0, 11)])\n",
    "plt.title('Выживаемость по классу')\n",
    "\n",
    "# Подписи с процентами\n",
    "for i, pclass in enumerate(sorted(class_means.index)):\n",
    "    val = class_means[pclass]\n",
    "    plt.text(i, val + 0.02, f\"{val*100:.1f}%\", ha='center')\n",
    "plt.show()"
   ]
  },
  {
   "cell_type": "markdown",
   "id": "6e3f7dee",
   "metadata": {},
   "source": [
    "Результаты расчётов показывают явную градацию: в 1-м классе выживаемость самая высокая (около 62.9%), во 2-м классе ниже (47.3%), а в 3-м классе самая низкая (24.2%). Эта тенденция хорошо прослеживается на графиках и подтверждается исторической статистикой (примерно 62% в первом, 41% во втором и 25% в третьем классах __courses.bowdoin.edu__)\n",
    "\n",
    "__Вывод:__ гипотеза о влиянии класса подтверждена – класс пассажира играет важную роль в выживании."
   ]
  },
  {
   "cell_type": "markdown",
   "id": "da919518",
   "metadata": {},
   "source": [
    "### 2.3.3 Влияние возраста и наличия детей"
   ]
  },
  {
   "cell_type": "markdown",
   "id": "6e275a2c",
   "metadata": {},
   "source": [
    "__Гипотеза:__ \n",
    "Возраст пассажира влияет на шанс выжить; в частности, дети имели более высокую вероятность спастись, чем взрослые."
   ]
  },
  {
   "cell_type": "code",
   "execution_count": 83,
   "id": "e3bf6e59",
   "metadata": {},
   "outputs": [
    {
     "data": {
      "image/png": "[encoded data removed]",
      "text/plain": [
       "<Figure size 640x480 with 1 Axes>"
      ]
     },
     "metadata": {},
     "output_type": "display_data"
    }
   ],
   "source": [
    "# Boxplot возраста для выживших и невыживших\n",
    "sns.boxplot(x='Survived', y='Age', data=df)\n",
    "plt.title('Возраст и выживаемость')\n",
    "plt.show()"
   ]
  },
  {
   "cell_type": "code",
   "execution_count": 87,
   "id": "2d9d6c66",
   "metadata": {},
   "outputs": [
    {
     "data": {
      "text/plain": [
       "TtestResult(statistic=-1.8966053920256696, pvalue=0.058309159977757444, df=671.1541729069276)"
      ]
     },
     "execution_count": 87,
     "metadata": {},
     "output_type": "execute_result"
    }
   ],
   "source": [
    "# T-тест Стьюдента для сравнения средних возрастов\n",
    "age_t_test = ttest_ind(df[df['Survived']==1]['Age'], df[df['Survived']==0]['Age'], equal_var=False)\n",
    "age_t_test"
   ]
  },
  {
   "cell_type": "code",
   "execution_count": 89,
   "id": "aafedc19",
   "metadata": {},
   "outputs": [
    {
     "data": {
      "text/plain": [
       "Chi2ContingencyResult(statistic=15.556993340077092, pvalue=8.005497211300105e-05, dof=1, expected_freq=array([[497.85858586, 310.14141414],\n",
       "       [ 51.14141414,  31.85858586]]))"
      ]
     },
     "execution_count": 89,
     "metadata": {},
     "output_type": "execute_result"
    }
   ],
   "source": [
    "# Х-квадрат тест: дети vs взрослые и их выживаемость\n",
    "x_test_age = chi2_contingency(pd.crosstab(df['IsChild'], df['Survived']))\n",
    "x_test_age"
   ]
  },
  {
   "cell_type": "markdown",
   "id": "69e89f7c",
   "metadata": {},
   "source": [
    "__Вывод:__\n",
    "Вв целом по всему диапазону возраст оказывает слабое влияние на выживаемость (разница средних не велика), однако если фокусироваться на детях, их шансы выжить значительно выше, чем у взрослых, что статистически подтверждено. Гипотеза о преимуществе детей подтверждается."
   ]
  },
  {
   "cell_type": "markdown",
   "id": "e076ecf9",
   "metadata": {},
   "source": [
    "### 2.3.4 Влияние порта посадки"
   ]
  },
  {
   "cell_type": "markdown",
   "id": "86919c9c",
   "metadata": {},
   "source": [
    "__Гипотеза:__ Порт посадки связан с шансами на выживание. Предположительно, пассажиры, севшие в порте (Embarked = C), могли выживать чаще, чем те, кто сел в (S) или (Q)."
   ]
  },
  {
   "cell_type": "code",
   "execution_count": 90,
   "id": "35a46365",
   "metadata": {},
   "outputs": [
    {
     "data": {
      "text/plain": [
       "Embarked\n",
       "C    0.553571\n",
       "Q    0.389610\n",
       "S    0.339009\n",
       "Name: Survived, dtype: float64"
      ]
     },
     "execution_count": 90,
     "metadata": {},
     "output_type": "execute_result"
    }
   ],
   "source": [
    "# Средняя выживаемость по Embarked (1 = выжил)\n",
    "port_means = df.groupby('Embarked')['Survived'].mean()\n",
    "port_means"
   ]
  },
  {
   "cell_type": "code",
   "execution_count": 91,
   "id": "bc43ac33",
   "metadata": {},
   "outputs": [
    {
     "data": {
      "text/plain": [
       "Chi2ContingencyResult(statistic=25.964452881874784, pvalue=2.3008626481449577e-06, dof=2, expected_freq=array([[103.51515152,  64.48484848],\n",
       "       [ 47.44444444,  29.55555556],\n",
       "       [398.04040404, 247.95959596]]))"
      ]
     },
     "execution_count": 91,
     "metadata": {},
     "output_type": "execute_result"
    }
   ],
   "source": [
    "# Х-квадрат тест независимости: проверка связи между портом и выживанием\n",
    "x_test_port = chi2_contingency(pd.crosstab(df['Embarked'], df['Survived']))\n",
    "x_test_port"
   ]
  },
  {
   "cell_type": "code",
   "execution_count": 94,
   "id": "8ad4a73f",
   "metadata": {},
   "outputs": [
    {
     "name": "stderr",
     "output_type": "stream",
     "text": [
      "C:\\Users\\bigmi\\AppData\\Local\\Temp\\ipykernel_49868\\1722584570.py:3: FutureWarning: \n",
      "\n",
      "The `ci` parameter is deprecated. Use `errorbar=None` for the same effect.\n",
      "\n",
      "  sns.barplot(x='Embarked', y='Survived', data=df, order=emb_order, ci=None)\n"
     ]
    },
    {
     "data": {
      "image/png": "[encoded data removed]",
      "text/plain": [
       "<Figure size 640x480 with 1 Axes>"
      ]
     },
     "metadata": {},
     "output_type": "display_data"
    }
   ],
   "source": [
    "# Визуализация с процентами\n",
    "emb_order = ['S', 'C', 'Q']\n",
    "sns.barplot(x='Embarked', y='Survived', data=df, order=emb_order, ci=None)\n",
    "plt.ylim(0, 1)\n",
    "plt.yticks([i/10 for i in range(0, 11)], [f'{i*10}%' for i in range(0, 11)])\n",
    "plt.title('Выживаемость по порту посадки')\n",
    "\n",
    "# Подписи с процентами\n",
    "emb_means = df.groupby('Embarked')['Survived'].mean()\n",
    "for i, port in enumerate(emb_order):\n",
    "    val = emb_means[port]\n",
    "    plt.text(i, val + 0.02, f\"{val*100:.1f}%\", ha='center')\n",
    "plt.show()"
   ]
  },
  {
   "cell_type": "markdown",
   "id": "22dc4752",
   "metadata": {},
   "source": [
    "__Вывод:__ Наивысшая вероятность спастись действительно у тех, кто сел в порту C, а наименьшая – из порта S. Причина, скорее всего, в том, что из C на «Титаник» садилось больше пассажиров первого класса (и вообще более дорогие билеты). Гипотеза о влиянии порта посадки подтверждена (выживаемость различается для S, C, Q), но этот фактор носит косвенный характер."
   ]
  },
  {
   "cell_type": "markdown",
   "id": "5919cb85",
   "metadata": {},
   "source": [
    "### 2.3.5 Влияние размера семьи"
   ]
  },
  {
   "cell_type": "markdown",
   "id": "ca83215b",
   "metadata": {},
   "source": [
    "__Гипотеза:__ Наличие и количество родственников на борту влияет на выживаемость пассажира. Ожидается, что пассажиры, путешествовавшие совсем одни (без семьи), выживали реже, чем те, кто был с семьёй (возможно, наличие близких стимулировало бороться за жизнь или помогало оказаться в шлюпке). "
   ]
  },
  {
   "cell_type": "code",
   "execution_count": 96,
   "id": "e9c98df8",
   "metadata": {},
   "outputs": [
    {
     "name": "stderr",
     "output_type": "stream",
     "text": [
      "C:\\Users\\bigmi\\AppData\\Local\\Temp\\ipykernel_49868\\3259705889.py:2: FutureWarning: \n",
      "\n",
      "The `ci` parameter is deprecated. Use `errorbar=None` for the same effect.\n",
      "\n",
      "  sns.barplot(x='FamilySize', y='Survived', data=df, ci=None)\n"
     ]
    },
    {
     "data": {
      "image/png": "[encoded data removed]",
      "text/plain": [
       "<Figure size 640x480 with 1 Axes>"
      ]
     },
     "metadata": {},
     "output_type": "display_data"
    }
   ],
   "source": [
    "# Визуализация с процентами\n",
    "sns.barplot(x='FamilySize', y='Survived', data=df, ci=None)\n",
    "plt.ylim(0, 1)\n",
    "plt.yticks([i/10 for i in range(0, 11)], [f'{i*10}%' for i in range(0, 11)])\n",
    "plt.title('Выживаемость по размеру семьи')\n",
    "\n",
    "# Подписи с процентами\n",
    "fam_means = df.groupby('FamilySize')['Survived'].mean()\n",
    "for i, size in enumerate(fam_means.index):\n",
    "    val = fam_means[size]\n",
    "    plt.text(i, val + 0.02, f\"{val*100:.1f}%\", ha='center')\n",
    "plt.show()"
   ]
  },
  {
   "cell_type": "markdown",
   "id": "2084696f",
   "metadata": {},
   "source": [
    "__Вывод:__\n",
    "Гипотеза подтверждается: одиночки имели существенно меньший шанс выжить по сравнению с теми, кто путешествовал с семьёй, но слишком большой размер семьи отрицательно сказывался на выживании."
   ]
  },
  {
   "cell_type": "markdown",
   "id": "df94b5c6",
   "metadata": {},
   "source": [
    "### 2.3.6 Влияние стоимости билета"
   ]
  },
  {
   "cell_type": "markdown",
   "id": "c50abbff",
   "metadata": {},
   "source": [
    "__Гипотеза:__ Более высокий тариф (стоимость билета) ассоциируется с большей вероятностью выжить. Данный признак связан с классом: дорогие билеты у пассажиров 1-го класса, а дешёвые – у 3-го, поэтому ожидается, что чем выше Fare, тем больше шанс спасения."
   ]
  },
  {
   "cell_type": "code",
   "execution_count": 98,
   "id": "47bf4faf",
   "metadata": {},
   "outputs": [
    {
     "data": {
      "text/plain": [
       "TtestResult(statistic=6.839099259085254, pvalue=2.6993323503141236e-11, df=436.7022760386057)"
      ]
     },
     "execution_count": 98,
     "metadata": {},
     "output_type": "execute_result"
    }
   ],
   "source": [
    "# T-тест для тарифов\n",
    "fare_t_test = ttest_ind(df[df['Survived']==1]['Fare'], df[df['Survived']==0]['Fare'], equal_var=False)\n",
    "fare_t_test"
   ]
  },
  {
   "cell_type": "code",
   "execution_count": null,
   "id": "36a09fbb",
   "metadata": {},
   "outputs": [
    {
     "data": {
      "image/png": "[encoded data removed]",
      "text/plain": [
       "<Figure size 640x480 with 1 Axes>"
      ]
     },
     "metadata": {},
     "output_type": "display_data"
    }
   ],
   "source": [
    "sns.boxplot(x='Survived', y='Fare', data=df)\n",
    "plt.ylim(0, 300)\n",
    "plt.title('Стоимость билета и выживаемость')\n",
    "plt.show()"
   ]
  },
  {
   "cell_type": "markdown",
   "id": "e14a5009",
   "metadata": {},
   "source": [
    "__Вывод:__ гипотеза подтверждена, высокие значения Fare статистически значимо связаны с большей выживаемостью."
   ]
  },
  {
   "cell_type": "markdown",
   "id": "52134e8e",
   "metadata": {},
   "source": [
    "## 2.4 Заключение"
   ]
  },
  {
   "cell_type": "markdown",
   "id": "b298189d",
   "metadata": {},
   "source": [
    "Подводя итог, все выдвинутые гипотезы подтвердились анализом данных Titanic. Пол, класс, детский возраст, порт отправления, наличие семьи и стоимость билета — все эти факторы оказали влияние на выживаемость пассажиров. Причём первые два фактора (пол и класс) дали наиболее сильный эффект (женщины и пассажиры 1-го класса имели существенно большие шансы спастись, p-value тестов практически нулевые). Возраст сам по себе имел умеренное воздействие, но если выделить детей, то их преимущество становится очевидным. Порт посадки коррелировал с выживанием за счёт неравномерного распределения классов по портам. Размер семьи показал интересную зависимость с максимумом выживаемости для небольших семей. Стоимость билета, как и ожидалось, тесно связана с классом и тоже продемонстрировала значимую разницу между выжившими и погибшими."
   ]
  }
 ],
 "metadata": {
  "kernelspec": {
   "display_name": "base",
   "language": "python",
   "name": "python3"
  },
  "language_info": {
   "codemirror_mode": {
    "name": "ipython",
    "version": 3
   },
   "file_extension": ".py",
   "mimetype": "text/x-python",
   "name": "python",
   "nbconvert_exporter": "python",
   "pygments_lexer": "ipython3",
   "version": "3.12.4"
  }
 },
 "nbformat": 4,
 "nbformat_minor": 5
}
