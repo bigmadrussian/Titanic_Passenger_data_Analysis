{
 "cells": [
  {
   "cell_type": "markdown",
   "id": "a02ad5ce",
   "metadata": {},
   "source": [
    "# Сравнение моделей для предсказания выживаемости пассажиров “Титаника”"
   ]
  },
  {
   "cell_type": "markdown",
   "id": "efe23393",
   "metadata": {},
   "source": [
    "## Введение\n",
    "\n",
    "__Задача__ предсказания выживаемости пассажиров легендарного корабля “Титаник” является классической проблемой бинарной классификации. \n",
    "\n",
    "__Цель__ – на основе информации о пассажире (таких как пол, возраст, класс каюты и др.) предсказать, выжил ли он (Survived = 1) или нет (Survived = 0). В данном исследовании проводится сравнительный анализ качества нескольких моделей машинного обучения и глубинного обучения на этом наборе данных. Рассматриваются по одной модели из разных семейств алгоритмов:\n",
    "* Логистическая регрессия – линейная модель классификации.\n",
    "* Решающее дерево – модель на основе деревьев решений.\n",
    "* Случайный лес – ансамблевая модель, усредняющая предсказания множества деревьев.\n",
    "* XGBoost (градиентный бустинг) – модель градиентного бустинга деревьев решений.\n",
    "\n",
    "Многослойный перцептрон (MLP) – простой нейросетевой классификатор.\n",
    "Для каждой модели проводится одинаковый эксперимент: 5-кратная кросс-валидация на обучающем наборе данных с расчетом метрик Accuracy, Precision, Recall, F1-score и ROC-AUC. Далее результаты моделей сравниваются визуально и численно, определяется лучшая модель по совокупности метрик, формулируются выводы и рекомендации."
   ]
  },
  {
   "cell_type": "markdown",
   "id": "ef3bb322",
   "metadata": {},
   "source": [
    "## Описание данных и подготовка данных"
   ]
  },
  {
   "cell_type": "code",
   "execution_count": 1,
   "id": "8f9362de",
   "metadata": {},
   "outputs": [],
   "source": [
    "import pandas as pd"
   ]
  },
  {
   "cell_type": "code",
   "execution_count": 4,
   "id": "5215863f",
   "metadata": {},
   "outputs": [
    {
     "name": "stdout",
     "output_type": "stream",
     "text": [
      "Размер набора данных: (891, 15)\n"
     ]
    },
    {
     "data": {
      "application/vnd.microsoft.datawrangler.viewer.v0+json": {
       "columns": [
        {
         "name": "index",
         "rawType": "int64",
         "type": "integer"
        },
        {
         "name": "Survived",
         "rawType": "int64",
         "type": "integer"
        },
        {
         "name": "Pclass",
         "rawType": "int64",
         "type": "integer"
        },
        {
         "name": "Sex",
         "rawType": "int64",
         "type": "integer"
        },
        {
         "name": "Age",
         "rawType": "float64",
         "type": "float"
        },
        {
         "name": "Fare",
         "rawType": "float64",
         "type": "float"
        },
        {
         "name": "FamilySize",
         "rawType": "int64",
         "type": "integer"
        },
        {
         "name": "IsAlone",
         "rawType": "int64",
         "type": "integer"
        },
        {
         "name": "Embarked_C",
         "rawType": "int64",
         "type": "integer"
        },
        {
         "name": "Embarked_Q",
         "rawType": "int64",
         "type": "integer"
        },
        {
         "name": "Title_Miss",
         "rawType": "int64",
         "type": "integer"
        },
        {
         "name": "Title_Mrs",
         "rawType": "int64",
         "type": "integer"
        },
        {
         "name": "Title_Master",
         "rawType": "int64",
         "type": "integer"
        },
        {
         "name": "Title_Rare",
         "rawType": "int64",
         "type": "integer"
        },
        {
         "name": "Family_Small",
         "rawType": "int64",
         "type": "integer"
        },
        {
         "name": "Family_Large",
         "rawType": "int64",
         "type": "integer"
        }
       ],
       "conversionMethod": "pd.DataFrame",
       "ref": "6af01ffe-8ea0-4469-a6a2-9e7352c31b62",
       "rows": [
        [
         "0",
         "0",
         "3",
         "0",
         "22.0",
         "7.25",
         "2",
         "0",
         "0",
         "0",
         "0",
         "0",
         "0",
         "0",
         "1",
         "0"
        ],
        [
         "1",
         "1",
         "1",
         "1",
         "38.0",
         "71.2833",
         "2",
         "0",
         "1",
         "0",
         "0",
         "1",
         "0",
         "0",
         "1",
         "0"
        ],
        [
         "2",
         "1",
         "3",
         "1",
         "26.0",
         "7.925",
         "1",
         "1",
         "0",
         "0",
         "1",
         "0",
         "0",
         "0",
         "0",
         "0"
        ],
        [
         "3",
         "1",
         "1",
         "1",
         "35.0",
         "53.1",
         "2",
         "0",
         "0",
         "0",
         "0",
         "1",
         "0",
         "0",
         "1",
         "0"
        ],
        [
         "4",
         "0",
         "3",
         "0",
         "35.0",
         "8.05",
         "1",
         "1",
         "0",
         "0",
         "0",
         "0",
         "0",
         "0",
         "0",
         "0"
        ]
       ],
       "shape": {
        "columns": 15,
        "rows": 5
       }
      },
      "text/html": [
       "<div>\n",
       "<style scoped>\n",
       "    .dataframe tbody tr th:only-of-type {\n",
       "        vertical-align: middle;\n",
       "    }\n",
       "\n",
       "    .dataframe tbody tr th {\n",
       "        vertical-align: top;\n",
       "    }\n",
       "\n",
       "    .dataframe thead th {\n",
       "        text-align: right;\n",
       "    }\n",
       "</style>\n",
       "<table border=\"1\" class=\"dataframe\">\n",
       "  <thead>\n",
       "    <tr style=\"text-align: right;\">\n",
       "      <th></th>\n",
       "      <th>Survived</th>\n",
       "      <th>Pclass</th>\n",
       "      <th>Sex</th>\n",
       "      <th>Age</th>\n",
       "      <th>Fare</th>\n",
       "      <th>FamilySize</th>\n",
       "      <th>IsAlone</th>\n",
       "      <th>Embarked_C</th>\n",
       "      <th>Embarked_Q</th>\n",
       "      <th>Title_Miss</th>\n",
       "      <th>Title_Mrs</th>\n",
       "      <th>Title_Master</th>\n",
       "      <th>Title_Rare</th>\n",
       "      <th>Family_Small</th>\n",
       "      <th>Family_Large</th>\n",
       "    </tr>\n",
       "  </thead>\n",
       "  <tbody>\n",
       "    <tr>\n",
       "      <th>0</th>\n",
       "      <td>0</td>\n",
       "      <td>3</td>\n",
       "      <td>0</td>\n",
       "      <td>22.0</td>\n",
       "      <td>7.2500</td>\n",
       "      <td>2</td>\n",
       "      <td>0</td>\n",
       "      <td>0</td>\n",
       "      <td>0</td>\n",
       "      <td>0</td>\n",
       "      <td>0</td>\n",
       "      <td>0</td>\n",
       "      <td>0</td>\n",
       "      <td>1</td>\n",
       "      <td>0</td>\n",
       "    </tr>\n",
       "    <tr>\n",
       "      <th>1</th>\n",
       "      <td>1</td>\n",
       "      <td>1</td>\n",
       "      <td>1</td>\n",
       "      <td>38.0</td>\n",
       "      <td>71.2833</td>\n",
       "      <td>2</td>\n",
       "      <td>0</td>\n",
       "      <td>1</td>\n",
       "      <td>0</td>\n",
       "      <td>0</td>\n",
       "      <td>1</td>\n",
       "      <td>0</td>\n",
       "      <td>0</td>\n",
       "      <td>1</td>\n",
       "      <td>0</td>\n",
       "    </tr>\n",
       "    <tr>\n",
       "      <th>2</th>\n",
       "      <td>1</td>\n",
       "      <td>3</td>\n",
       "      <td>1</td>\n",
       "      <td>26.0</td>\n",
       "      <td>7.9250</td>\n",
       "      <td>1</td>\n",
       "      <td>1</td>\n",
       "      <td>0</td>\n",
       "      <td>0</td>\n",
       "      <td>1</td>\n",
       "      <td>0</td>\n",
       "      <td>0</td>\n",
       "      <td>0</td>\n",
       "      <td>0</td>\n",
       "      <td>0</td>\n",
       "    </tr>\n",
       "    <tr>\n",
       "      <th>3</th>\n",
       "      <td>1</td>\n",
       "      <td>1</td>\n",
       "      <td>1</td>\n",
       "      <td>35.0</td>\n",
       "      <td>53.1000</td>\n",
       "      <td>2</td>\n",
       "      <td>0</td>\n",
       "      <td>0</td>\n",
       "      <td>0</td>\n",
       "      <td>0</td>\n",
       "      <td>1</td>\n",
       "      <td>0</td>\n",
       "      <td>0</td>\n",
       "      <td>1</td>\n",
       "      <td>0</td>\n",
       "    </tr>\n",
       "    <tr>\n",
       "      <th>4</th>\n",
       "      <td>0</td>\n",
       "      <td>3</td>\n",
       "      <td>0</td>\n",
       "      <td>35.0</td>\n",
       "      <td>8.0500</td>\n",
       "      <td>1</td>\n",
       "      <td>1</td>\n",
       "      <td>0</td>\n",
       "      <td>0</td>\n",
       "      <td>0</td>\n",
       "      <td>0</td>\n",
       "      <td>0</td>\n",
       "      <td>0</td>\n",
       "      <td>0</td>\n",
       "      <td>0</td>\n",
       "    </tr>\n",
       "  </tbody>\n",
       "</table>\n",
       "</div>"
      ],
      "text/plain": [
       "   Survived  Pclass  Sex   Age     Fare  FamilySize  IsAlone  Embarked_C  \\\n",
       "0         0       3    0  22.0   7.2500           2        0           0   \n",
       "1         1       1    1  38.0  71.2833           2        0           1   \n",
       "2         1       3    1  26.0   7.9250           1        1           0   \n",
       "3         1       1    1  35.0  53.1000           2        0           0   \n",
       "4         0       3    0  35.0   8.0500           1        1           0   \n",
       "\n",
       "   Embarked_Q  Title_Miss  Title_Mrs  Title_Master  Title_Rare  Family_Small  \\\n",
       "0           0           0          0             0           0             1   \n",
       "1           0           0          1             0           0             1   \n",
       "2           0           1          0             0           0             0   \n",
       "3           0           0          1             0           0             1   \n",
       "4           0           0          0             0           0             0   \n",
       "\n",
       "   Family_Large  \n",
       "0             0  \n",
       "1             0  \n",
       "2             0  \n",
       "3             0  \n",
       "4             0  "
      ]
     },
     "execution_count": 4,
     "metadata": {},
     "output_type": "execute_result"
    }
   ],
   "source": [
    "# Загрузка данных\n",
    "df = pd.read_csv('./datasets/feature_titanic_dataset.csv')\n",
    "print(\"Размер набора данных:\", df.shape)\n",
    "df.head(5)"
   ]
  },
  {
   "cell_type": "markdown",
   "id": "7c74aa13",
   "metadata": {},
   "source": [
    "Данные не содержат пропущенных значений и уже готовы для моделирования. Тем не менее, необходимо обратить внимание на масштабирование признаков. Логистическая регрессия и нейронная сеть (MLP) чувствительны к масштабу переменных, поэтому для этих моделей мы применим стандартизацию (StandardScaler) к признакам. Для деревьев решений, случайного леса и XGBoost масштабирование не требуется, поскольку эти модели не чувствительны к масштабу входных признаков."
   ]
  },
  {
   "cell_type": "markdown",
   "id": "43224667",
   "metadata": {},
   "source": [
    "## Методика эксперимента"
   ]
  },
  {
   "cell_type": "markdown",
   "id": "4d0f62ba",
   "metadata": {},
   "source": [
    "Для оценки моделей используется метод k-кратной кросс-валидации (k=5). Данные случайным образом делятся на 5 частей (фолдов); в каждом из 5 испытаний 4 фолда используются для обучения модели, а оставшийся фолд – для проверки. Метрики рассчитываются на каждом из 5 контрольных фолдов, после чего усредняются. Такая процедура позволяет получить более надежную оценку обобщающей способности моделей на независимых данных по сравнению с единичным разбиением на обучение/тест. \n",
    "\n",
    "__Модели для сравнения__: Мы рассматриваем следующие модели с параметрами по умолчанию (если не указано иначе), каждая настроена для бинарной классификации задачи: логистическая регрессия, решающее дерево, случайный лес, XGBoost и MLP. Для воспроизводимости зададим random_state=42 в моделях, где это применимо. Модели логистической регрессии и MLP будут встроены в Pipeline вместе с StandardScaler для масштабирования признаков. Метрики оценки: Для каждой модели вычисляются следующие показатели качества классификации:\n",
    "* Accuracy (точность классификации) – доля правильно классифицированных примеров от общего числа.\n",
    "* Precision (точность позитивного прогноза) – доля правильных предсказаний класса “выжил” среди всех предсказаний “выжил”. Показывает, насколько надежны позитивные прогнозы модели.\n",
    "* Recall (полнота, чувствительность) – доля реально выживших пассажиров, которых модель правильно идентифицировала как выживших. Характеризует способность модели обнаруживать положительный класс.\n",
    "* F1-score – гармоническое среднее Precision и Recall, интегральная метрика баланса точности и полноты.\n",
    "* ROC-AUC – площадь под ROC-кривой, отражающая качество ранжирования: вероятность, что модель присвоит случайному выжившему пассажиру более высокий скор предсказания, чем случайному невыжившему.\n",
    "\n",
    "Метрики Precision, Recall и F1 рассчитываются относительно положительного класса (выживания). Высокие значения этих метрик указывают на лучшее качество модели по соответствующим критериях."
   ]
  },
  {
   "cell_type": "markdown",
   "id": "e0dcff7c",
   "metadata": {},
   "source": [
    "## Обучение моделей и оценка по метрикам"
   ]
  },
  {
   "cell_type": "code",
   "execution_count": 8,
   "id": "75dff284",
   "metadata": {},
   "outputs": [
    {
     "name": "stdout",
     "output_type": "stream",
     "text": [
      "Collecting xgboost\n",
      "  Using cached xgboost-3.0.0-py3-none-win_amd64.whl.metadata (2.1 kB)\n",
      "Requirement already satisfied: numpy in c:\\users\\bigmi\\anaconda3\\lib\\site-packages (from xgboost) (1.26.4)\n",
      "Requirement already satisfied: scipy in c:\\users\\bigmi\\anaconda3\\lib\\site-packages (from xgboost) (1.13.1)\n",
      "Using cached xgboost-3.0.0-py3-none-win_amd64.whl (150.0 MB)\n",
      "Installing collected packages: xgboost\n",
      "Successfully installed xgboost-3.0.0\n"
     ]
    },
    {
     "name": "stderr",
     "output_type": "stream",
     "text": [
      "WARNING: Retrying (Retry(total=4, connect=None, read=None, redirect=None, status=None)) after connection broken by 'ReadTimeoutError(\"HTTPSConnectionPool(host='pypi.org', port=443): Read timed out. (read timeout=15)\")': /simple/xgboost/\n",
      "WARNING: Retrying (Retry(total=3, connect=None, read=None, redirect=None, status=None)) after connection broken by 'ReadTimeoutError(\"HTTPSConnectionPool(host='pypi.org', port=443): Read timed out. (read timeout=15)\")': /simple/xgboost/\n"
     ]
    }
   ],
   "source": [
    "!pip install xgboost"
   ]
  },
  {
   "cell_type": "code",
   "execution_count": 9,
   "id": "f300940d",
   "metadata": {},
   "outputs": [],
   "source": [
    "from sklearn.model_selection import cross_validate\n",
    "from sklearn.linear_model import LogisticRegression\n",
    "from sklearn.tree import DecisionTreeClassifier\n",
    "from sklearn.ensemble import RandomForestClassifier\n",
    "from xgboost import XGBClassifier\n",
    "from sklearn.neural_network import MLPClassifier\n",
    "from sklearn.pipeline import Pipeline\n",
    "from sklearn.preprocessing import StandardScaler"
   ]
  },
  {
   "cell_type": "code",
   "execution_count": 10,
   "id": "e7b83baf",
   "metadata": {},
   "outputs": [],
   "source": [
    "# Формирование признаков X и целевой переменной y\n",
    "X = df.drop('Survived', axis=1)\n",
    "y = df['Survived']"
   ]
  },
  {
   "cell_type": "code",
   "execution_count": 11,
   "id": "cbc71a12",
   "metadata": {},
   "outputs": [],
   "source": [
    "# Определение моделей\n",
    "models = {\n",
    "    \"Logistic Regression\": Pipeline([\n",
    "        (\"scaler\", StandardScaler()), \n",
    "        (\"clf\", LogisticRegression(max_iter=1000, random_state=42))\n",
    "    ]),\n",
    "    \"Decision Tree\": DecisionTreeClassifier(random_state=42),\n",
    "    \"Random Forest\": RandomForestClassifier(random_state=42),\n",
    "    \"XGBoost\": XGBClassifier(use_label_encoder=False, eval_metric='logloss', random_state=42),\n",
    "    \"Neural Network (MLP)\": Pipeline([\n",
    "        (\"scaler\", StandardScaler()), \n",
    "        (\"clf\", MLPClassifier(max_iter=500, random_state=42))\n",
    "    ])\n",
    "}"
   ]
  },
  {
   "cell_type": "code",
   "execution_count": 19,
   "id": "d1367f27",
   "metadata": {},
   "outputs": [
    {
     "name": "stderr",
     "output_type": "stream",
     "text": [
      "c:\\Users\\bigmi\\anaconda3\\Lib\\site-packages\\xgboost\\training.py:183: UserWarning: [21:05:38] WARNING: C:\\actions-runner\\_work\\xgboost\\xgboost\\src\\learner.cc:738: \n",
      "Parameters: { \"use_label_encoder\" } are not used.\n",
      "\n",
      "  bst.update(dtrain, iteration=i, fobj=obj)\n",
      "c:\\Users\\bigmi\\anaconda3\\Lib\\site-packages\\xgboost\\training.py:183: UserWarning: [21:05:38] WARNING: C:\\actions-runner\\_work\\xgboost\\xgboost\\src\\learner.cc:738: \n",
      "Parameters: { \"use_label_encoder\" } are not used.\n",
      "\n",
      "  bst.update(dtrain, iteration=i, fobj=obj)\n",
      "c:\\Users\\bigmi\\anaconda3\\Lib\\site-packages\\xgboost\\training.py:183: UserWarning: [21:05:38] WARNING: C:\\actions-runner\\_work\\xgboost\\xgboost\\src\\learner.cc:738: \n",
      "Parameters: { \"use_label_encoder\" } are not used.\n",
      "\n",
      "  bst.update(dtrain, iteration=i, fobj=obj)\n",
      "c:\\Users\\bigmi\\anaconda3\\Lib\\site-packages\\xgboost\\training.py:183: UserWarning: [21:05:38] WARNING: C:\\actions-runner\\_work\\xgboost\\xgboost\\src\\learner.cc:738: \n",
      "Parameters: { \"use_label_encoder\" } are not used.\n",
      "\n",
      "  bst.update(dtrain, iteration=i, fobj=obj)\n",
      "c:\\Users\\bigmi\\anaconda3\\Lib\\site-packages\\xgboost\\training.py:183: UserWarning: [21:05:38] WARNING: C:\\actions-runner\\_work\\xgboost\\xgboost\\src\\learner.cc:738: \n",
      "Parameters: { \"use_label_encoder\" } are not used.\n",
      "\n",
      "  bst.update(dtrain, iteration=i, fobj=obj)\n",
      "c:\\Users\\bigmi\\anaconda3\\Lib\\site-packages\\sklearn\\neural_network\\_multilayer_perceptron.py:691: ConvergenceWarning: Stochastic Optimizer: Maximum iterations (500) reached and the optimization hasn't converged yet.\n",
      "  warnings.warn(\n",
      "c:\\Users\\bigmi\\anaconda3\\Lib\\site-packages\\sklearn\\neural_network\\_multilayer_perceptron.py:691: ConvergenceWarning: Stochastic Optimizer: Maximum iterations (500) reached and the optimization hasn't converged yet.\n",
      "  warnings.warn(\n",
      "c:\\Users\\bigmi\\anaconda3\\Lib\\site-packages\\sklearn\\neural_network\\_multilayer_perceptron.py:691: ConvergenceWarning: Stochastic Optimizer: Maximum iterations (500) reached and the optimization hasn't converged yet.\n",
      "  warnings.warn(\n",
      "c:\\Users\\bigmi\\anaconda3\\Lib\\site-packages\\sklearn\\neural_network\\_multilayer_perceptron.py:691: ConvergenceWarning: Stochastic Optimizer: Maximum iterations (500) reached and the optimization hasn't converged yet.\n",
      "  warnings.warn(\n"
     ]
    },
    {
     "name": "stdout",
     "output_type": "stream",
     "text": [
      "| Model                | Accuracy      | Precision     | Recall        | F1-score      | ROC-AUC       |\n",
      "|:---------------------|:--------------|:--------------|:--------------|:--------------|:--------------|\n",
      "| Logistic Regression  | 0.824 ± 0.023 | 0.790 ± 0.034 | 0.739 ± 0.069 | 0.762 ± 0.040 | 0.870 ± 0.025 |\n",
      "| Decision Tree        | 0.777 ± 0.028 | 0.715 ± 0.042 | 0.699 ± 0.041 | 0.706 ± 0.036 | 0.765 ± 0.038 |\n",
      "| Random Forest        | 0.806 ± 0.030 | 0.762 ± 0.034 | 0.719 ± 0.075 | 0.738 ± 0.049 | 0.856 ± 0.038 |\n",
      "| XGBoost              | 0.810 ± 0.024 | 0.767 ± 0.022 | 0.725 ± 0.068 | 0.744 ± 0.043 | 0.861 ± 0.033 |\n",
      "| Neural Network (MLP) | 0.808 ± 0.025 | 0.798 ± 0.030 | 0.669 ± 0.063 | 0.727 ± 0.045 | 0.855 ± 0.042 |\n"
     ]
    },
    {
     "name": "stderr",
     "output_type": "stream",
     "text": [
      "c:\\Users\\bigmi\\anaconda3\\Lib\\site-packages\\sklearn\\neural_network\\_multilayer_perceptron.py:691: ConvergenceWarning: Stochastic Optimizer: Maximum iterations (500) reached and the optimization hasn't converged yet.\n",
      "  warnings.warn(\n"
     ]
    }
   ],
   "source": [
    "# Оценка моделей с помощью 5-fold кросс-валидации\n",
    "scoring = ['accuracy', 'precision', 'recall', 'f1', 'roc_auc']\n",
    "cv_results = {}\n",
    "\n",
    "# Создаем DataFrame для результатов\n",
    "results_table = pd.DataFrame(columns=['Model', 'Accuracy', 'Precision', 'Recall', 'F1-score', 'ROC-AUC'])\n",
    "\n",
    "for name, model in models.items():\n",
    "    scores = cross_validate(model, X, y, cv=5, scoring=scoring)\n",
    "    cv_results[name] = {metric: scores[f'test_{metric}'] for metric in scoring}\n",
    "    \n",
    "    # Вычисляем среднее и стандартное отклонение для каждой метрики\n",
    "    accuracy = f\"{scores['test_accuracy'].mean():.3f} ± {scores['test_accuracy'].std():.3f}\"\n",
    "    precision = f\"{scores['test_precision'].mean():.3f} ± {scores['test_precision'].std():.3f}\"\n",
    "    recall = f\"{scores['test_recall'].mean():.3f} ± {scores['test_recall'].std():.3f}\"\n",
    "    f1 = f\"{scores['test_f1'].mean():.3f} ± {scores['test_f1'].std():.3f}\"\n",
    "    roc_auc = f\"{scores['test_roc_auc'].mean():.3f} ± {scores['test_roc_auc'].std():.3f}\"\n",
    "    \n",
    "    # Создаем временный DataFrame с результатами одной модели\n",
    "    temp_df = pd.DataFrame([[name, accuracy, precision, recall, f1, roc_auc]], \n",
    "                           columns=['Model', 'Accuracy', 'Precision', 'Recall', 'F1-score', 'ROC-AUC'])\n",
    "    \n",
    "    # Добавляем результаты в общую таблицу\n",
    "    results_table = pd.concat([results_table, temp_df], ignore_index=True)\n",
    "\n",
    "# Вывод таблицы\n",
    "print(results_table.to_markdown(index=False))"
   ]
  },
  {
   "cell_type": "markdown",
   "id": "4162aafa",
   "metadata": {},
   "source": [
    "## Выводы"
   ]
  },
  {
   "cell_type": "markdown",
   "id": "41d4c2ef",
   "metadata": {},
   "source": [
    "По совокупности метрик лучшей моделью на данном датасете оказалась логистическая регрессия – она имеет наивысшие или близкие к наивысшим показатели Accuracy, Recall, F1 и ROC-AUC, одновременно демонстрируя стабильность результатов на разных фолдах. Модель XGBoost следует сразу за ней, показывая сопоставимое качество (особенно по таким метрикам как Precision и ROC-AUC) – разница между этими моделями невелика. Немного уступает им случайный лес, однако он все же значительно лучше, чем одно решающее дерево, которое в данном эксперименте оказалось худшим. MLP-модель не превосходила лучшие алгоритмы и показала смещенность в сторону Precision ценой потери Recall, что не оптимально, если цель – находить всех выживших."
   ]
  }
 ],
 "metadata": {
  "kernelspec": {
   "display_name": "base",
   "language": "python",
   "name": "python3"
  },
  "language_info": {
   "codemirror_mode": {
    "name": "ipython",
    "version": 3
   },
   "file_extension": ".py",
   "mimetype": "text/x-python",
   "name": "python",
   "nbconvert_exporter": "python",
   "pygments_lexer": "ipython3",
   "version": "3.12.4"
  }
 },
 "nbformat": 4,
 "nbformat_minor": 5
}
